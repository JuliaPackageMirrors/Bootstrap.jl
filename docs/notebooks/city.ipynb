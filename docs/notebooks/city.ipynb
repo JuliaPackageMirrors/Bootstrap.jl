{
 "cells": [
  {
   "cell_type": "markdown",
   "metadata": {},
   "source": [
    "# Analysis of the City Dataset"
   ]
  },
  {
   "cell_type": "markdown",
   "metadata": {},
   "source": [
    "We will explore some concepts of the statistical bootstrapping with basic examples."
   ]
  },
  {
   "cell_type": "code",
   "execution_count": 1,
   "metadata": {
    "collapsed": false
   },
   "outputs": [],
   "source": [
    "using Bootstrap"
   ]
  },
  {
   "cell_type": "code",
   "execution_count": 2,
   "metadata": {
    "collapsed": false
   },
   "outputs": [],
   "source": [
    "srand(42);"
   ]
  },
  {
   "cell_type": "markdown",
   "metadata": {},
   "source": [
    "## City Dataset"
   ]
  },
  {
   "cell_type": "markdown",
   "metadata": {},
   "source": [
    "Let's have a look at the *city* dataset. This measured the population (in thousands of inhabitants) of major US cities in 1920 (column `U`) and 1930 (column `X`)."
   ]
  },
  {
   "cell_type": "code",
   "execution_count": 3,
   "metadata": {
    "collapsed": false
   },
   "outputs": [],
   "source": [
    "using DataFrames\n",
    "using Bootstrap.Datasets"
   ]
  },
  {
   "cell_type": "code",
   "execution_count": 4,
   "metadata": {
    "collapsed": false
   },
   "outputs": [
    {
     "data": {
      "text/html": [
       "<table class=\"data-frame\"><tr><th></th><th>U</th><th>X</th></tr><tr><th>1</th><td>138</td><td>143</td></tr><tr><th>2</th><td>93</td><td>104</td></tr><tr><th>3</th><td>61</td><td>69</td></tr><tr><th>4</th><td>179</td><td>260</td></tr><tr><th>5</th><td>48</td><td>75</td></tr><tr><th>6</th><td>37</td><td>63</td></tr><tr><th>7</th><td>29</td><td>50</td></tr><tr><th>8</th><td>23</td><td>48</td></tr><tr><th>9</th><td>30</td><td>111</td></tr><tr><th>10</th><td>2</td><td>50</td></tr></table>"
      ],
      "text/plain": [
       "10×2 DataFrames.DataFrame\n",
       "│ Row │ U   │ X   │\n",
       "├─────┼─────┼─────┤\n",
       "│ 1   │ 138 │ 143 │\n",
       "│ 2   │ 93  │ 104 │\n",
       "│ 3   │ 61  │ 69  │\n",
       "│ 4   │ 179 │ 260 │\n",
       "│ 5   │ 48  │ 75  │\n",
       "│ 6   │ 37  │ 63  │\n",
       "│ 7   │ 29  │ 50  │\n",
       "│ 8   │ 23  │ 48  │\n",
       "│ 9   │ 30  │ 111 │\n",
       "│ 10  │ 2   │ 50  │"
      ]
     },
     "execution_count": 4,
     "metadata": {},
     "output_type": "execute_result"
    }
   ],
   "source": [
    "city"
   ]
  },
  {
   "cell_type": "markdown",
   "metadata": {},
   "source": [
    "We want to estimate the relative change of the population. An obvious approach for this is to compute the ratios of the average population between the two time points."
   ]
  },
  {
   "cell_type": "code",
   "execution_count": 5,
   "metadata": {
    "collapsed": false
   },
   "outputs": [
    {
     "data": {
      "text/plain": [
       "city_ratio (generic function with 1 method)"
      ]
     },
     "execution_count": 5,
     "metadata": {},
     "output_type": "execute_result"
    }
   ],
   "source": [
    "city_ratio(df::AbstractDataFrame) = mean(df[:,:X]) ./ mean(df[:,:U])"
   ]
  },
  {
   "cell_type": "markdown",
   "metadata": {},
   "source": [
    "The point estimate yields a relative change of ~1.52. We will use different bootstrap approaches to compute confidence intervals for the point estimate."
   ]
  },
  {
   "cell_type": "code",
   "execution_count": 6,
   "metadata": {
    "collapsed": false
   },
   "outputs": [
    {
     "data": {
      "text/plain": [
       "1.5203125"
      ]
     },
     "execution_count": 6,
     "metadata": {},
     "output_type": "execute_result"
    }
   ],
   "source": [
    "city_ratio(city)"
   ]
  },
  {
   "cell_type": "markdown",
   "metadata": {},
   "source": [
    "## Bootstrap Estimates of Relative Growth"
   ]
  },
  {
   "cell_type": "markdown",
   "metadata": {},
   "source": [
    "Here, we will start with three commonly used bootstrapping techniques: The ordinary, the first-order balanced and the exact bootstrap."
   ]
  },
  {
   "cell_type": "code",
   "execution_count": 7,
   "metadata": {
    "collapsed": false
   },
   "outputs": [
    {
     "data": {
      "text/plain": [
       "Bootstrap Sampling\n",
       "  Estimates:\n",
       "    │ Var │ Estimate │ Bias      │ StdError │\n",
       "    ├─────┼──────────┼───────────┼──────────┤\n",
       "    │ 1   │ 1.52031  │ 0.0385926 │ 0.219192 │\n",
       "  Sampling: BasicSampling\n",
       "  Samples:  10000\n",
       "  Data:     DataFrames.DataFrame: { 10 × 2 }\n"
      ]
     },
     "execution_count": 7,
     "metadata": {},
     "output_type": "execute_result"
    }
   ],
   "source": [
    "bs1 = bootstrap(city, city_ratio, BasicSampling(10000))"
   ]
  },
  {
   "cell_type": "code",
   "execution_count": 8,
   "metadata": {
    "collapsed": false
   },
   "outputs": [
    {
     "data": {
      "text/plain": [
       "Bootstrap Sampling\n",
       "  Estimates:\n",
       "    │ Var │ Estimate │ Bias      │ StdError │\n",
       "    ├─────┼──────────┼───────────┼──────────┤\n",
       "    │ 1   │ 1.52031  │ 0.0386018 │ 0.21915  │\n",
       "  Sampling: BalancedSampling\n",
       "  Samples:  10000\n",
       "  Data:     DataFrames.DataFrame: { 10 × 2 }\n"
      ]
     },
     "execution_count": 8,
     "metadata": {},
     "output_type": "execute_result"
    }
   ],
   "source": [
    "bs2 = bootstrap(city, city_ratio, BalancedSampling(10000))"
   ]
  },
  {
   "cell_type": "code",
   "execution_count": 9,
   "metadata": {
    "collapsed": false
   },
   "outputs": [
    {
     "data": {
      "text/plain": [
       "Bootstrap Sampling\n",
       "  Estimates:\n",
       "    │ Var │ Estimate │ Bias      │ StdError │\n",
       "    ├─────┼──────────┼───────────┼──────────┤\n",
       "    │ 1   │ 1.52031  │ 0.0808941 │ 0.37132  │\n",
       "  Sampling: ExactSampling\n",
       "  Samples:  92378\n",
       "  Data:     DataFrames.DataFrame: { 10 × 2 }\n"
      ]
     },
     "execution_count": 9,
     "metadata": {},
     "output_type": "execute_result"
    }
   ],
   "source": [
    "bs3 = bootstrap(city, city_ratio, ExactSampling())"
   ]
  },
  {
   "cell_type": "markdown",
   "metadata": {},
   "source": [
    "## Confidence Intervals"
   ]
  },
  {
   "cell_type": "markdown",
   "metadata": {},
   "source": [
    "For the results from the balanced bootstrap, let's estimate confidence intervals for our point estimate for the relative gain."
   ]
  },
  {
   "cell_type": "code",
   "execution_count": 10,
   "metadata": {
    "collapsed": false
   },
   "outputs": [
    {
     "data": {
      "text/plain": [
       "((1.5203125,0.9375513279223897,1.7903274923259267),)"
      ]
     },
     "execution_count": 10,
     "metadata": {},
     "output_type": "execute_result"
    }
   ],
   "source": [
    "ci(bs1, BasicConfInt())"
   ]
  },
  {
   "cell_type": "code",
   "execution_count": 11,
   "metadata": {
    "collapsed": false
   },
   "outputs": [
    {
     "data": {
      "text/plain": [
       "((1.5203125,1.2431372379737544,2.0611078530154634),)"
      ]
     },
     "execution_count": 11,
     "metadata": {},
     "output_type": "execute_result"
    }
   ],
   "source": [
    "ci(bs1, BCaConfInt())"
   ]
  },
  {
   "cell_type": "code",
   "execution_count": 12,
   "metadata": {
    "collapsed": false
   },
   "outputs": [
    {
     "data": {
      "text/plain": [
       "((1.5203125,1.1799330508291126,2.3712308534772224),)"
      ]
     },
     "execution_count": 12,
     "metadata": {},
     "output_type": "execute_result"
    }
   ],
   "source": [
    "ci(bs1, BCaConfInt(0.99))"
   ]
  },
  {
   "cell_type": "code",
   "execution_count": 13,
   "metadata": {
    "collapsed": false
   },
   "outputs": [
    {
     "data": {
      "text/plain": [
       "((1.5203125,1.0521117124037642,1.9113281258268937),)"
      ]
     },
     "execution_count": 13,
     "metadata": {},
     "output_type": "execute_result"
    }
   ],
   "source": [
    "ci(bs1, NormalConfInt())"
   ]
  },
  {
   "cell_type": "code",
   "execution_count": 14,
   "metadata": {
    "collapsed": false
   },
   "outputs": [
    {
     "data": {
      "text/plain": [
       "((1.5203125,1.2502975076740732,2.10307367207761),)"
      ]
     },
     "execution_count": 14,
     "metadata": {},
     "output_type": "execute_result"
    }
   ],
   "source": [
    "ci(bs1, PercentileConfInt())"
   ]
  },
  {
   "cell_type": "markdown",
   "metadata": {},
   "source": [
    "## Visualization"
   ]
  },
  {
   "cell_type": "markdown",
   "metadata": {},
   "source": [
    "Finally, we visualize the distribution of the bootstrapped estimates $t_{1}$ together with the naive estimate $t_{0}$."
   ]
  },
  {
   "cell_type": "code",
   "execution_count": 15,
   "metadata": {
    "collapsed": false
   },
   "outputs": [],
   "source": [
    "using Gadfly"
   ]
  },
  {
   "cell_type": "code",
   "execution_count": 16,
   "metadata": {
    "collapsed": false,
    "scrolled": false
   },
   "outputs": [
    {
     "data": {
      "image/png": "[encoded data removed]",
      "text/plain": [
       "Compose.Image{Compose.PNGBackend}(IOBuffer(data=UInt8[...], readable=true, writable=true, seekable=true, append=false, size=32877, maxsize=Inf, ptr=32878, mark=-1),Cairo.CairoSurface{UInt32}(Ptr{Void} @0x0000000000000000,756.0,378.0,#undef),Cairo.CairoContext(Ptr{Void} @0x0000000000000000,Cairo.CairoSurface{UInt32}(Ptr{Void} @0x0000000000000000,756.0,378.0,#undef),Ptr{Void} @0x00007f806270c8d0),755.9055118110236,377.9527559055118,RGBA{Float64}(0.0,0.0,0.0,0.0),RGBA{Float64}(0.0,0.0,0.0,1.0),Float64[],Compose.LineCapButt(),Compose.LineJoinMiter(),true,0.3mm,3.880555555555555mm,\"Helvetica Neue,Helvetica,Arial,sans\",Nullable{Compose.ClipPrimitive{P<:NTuple{N,Measures.Measure}}}(),Compose.ImagePropertyState[],Compose.ImagePropertyFrame[],Dict{Type{T},Nullable{Compose.Property{P<:Compose.PropertyPrimitive}}}(),true,false,nothing,true,true,3.7795275590551185,Nullable{Tuple{Measures.Length{:mm,Float64},Measures.Length{:mm,Float64}}}(),Nullable{Tuple{Measures.Length{:mm,Float64},Measures.Length{:mm,Float64}}}())"
      ]
     },
     "metadata": {},
     "output_type": "display_data"
    }
   ],
   "source": [
    "p = plot(\n",
    "    layer(xintercept = [original(bs1)[1]], Geom.vline(color = colorant\"darkred\")),\n",
    "    layer(x = straps(bs1)[1], Geom.histogram(bincount = 100)),\n",
    "    Guide.xlabel(\"Statistic\"), Guide.ylabel(\"Counts\")\n",
    "    )\n",
    "draw(PNG(20cm, 10cm), p)"
   ]
  }
 ],
 "metadata": {
  "kernelspec": {
   "display_name": "Julia 0.4.6",
   "language": "julia",
   "name": "julia-0.4"
  },
  "language_info": {
   "file_extension": ".jl",
   "mimetype": "application/julia",
   "name": "julia",
   "version": "0.4.6"
  }
 },
 "nbformat": 4,
 "nbformat_minor": 0
}
